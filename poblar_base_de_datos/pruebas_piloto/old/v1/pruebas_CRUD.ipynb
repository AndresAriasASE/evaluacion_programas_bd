{
 "cells": [
  {
   "attachments": {},
   "cell_type": "markdown",
   "metadata": {},
   "source": [
    "Librerías"
   ]
  },
  {
   "cell_type": "code",
   "execution_count": 1,
   "metadata": {},
   "outputs": [],
   "source": [
    "import json\n",
    "import pandas as pd\n",
    "import mysql.connector\n",
    "from mysql.connector import Error"
   ]
  },
  {
   "attachments": {},
   "cell_type": "markdown",
   "metadata": {},
   "source": [
    "Funciones"
   ]
  },
  {
   "cell_type": "code",
   "execution_count": 3,
   "metadata": {},
   "outputs": [],
   "source": [
    "#Conexión instancia\n",
    "def create_connection(json_host_file):\n",
    "    connection = None\n",
    "    try:\n",
    "        with open(json_host_file) as json_file:\n",
    "            data = json.load(json_file)\n",
    "            host_name=data['host_name']\n",
    "            user_name=data['user_name']\n",
    "            user_password=data['user_password']\n",
    "            db_name=data['db_name']\n",
    "\n",
    "        connection = mysql.connector.connect(\n",
    "            host=host_name,\n",
    "            user=user_name,\n",
    "            passwd=user_password,\n",
    "            database=db_name\n",
    "        )\n",
    "        print(\"Connection to MySQL DB successful\")\n",
    "    except Error as e:\n",
    "        print(f\"The error '{e}' occurred\")\n",
    "\n",
    "    return connection\n",
    "\n",
    "# INSERT / UPDATE / DELETE\n",
    "def execute_query(connection, query):\n",
    "    cursor = connection.cursor()\n",
    "    try:\n",
    "        cursor.execute(query)\n",
    "        connection.commit()\n",
    "        print(\"Query executed successfully\")\n",
    "    except Error as e:\n",
    "        print(f\"The error '{e}' occurred\")\n",
    "\n",
    "# SELECT (OTRA ALTERNATIVA)\n",
    "def execute_read_query(connection, query):\n",
    "    cursor = connection.cursor()\n",
    "    result = None\n",
    "    column_names = None\n",
    "    try:\n",
    "        cursor.execute(query)\n",
    "        result = cursor.fetchall()\n",
    "        column_names =  cursor.column_names\n",
    "        return [result, column_names]\n",
    "    except Error as e:\n",
    "        print(f\"The error '{e}' occurred\")\n"
   ]
  },
  {
   "attachments": {},
   "cell_type": "markdown",
   "metadata": {},
   "source": [
    "Prueba SELECT/INSERT/UPDATE/DELETE"
   ]
  },
  {
   "cell_type": "code",
   "execution_count": 4,
   "metadata": {},
   "outputs": [
    {
     "name": "stdout",
     "output_type": "stream",
     "text": [
      "Connection to MySQL DB successful\n"
     ]
    }
   ],
   "source": [
    "#Conexion con BD usando archivo json\n",
    "connection = create_connection('db_conection.json')"
   ]
  },
  {
   "cell_type": "code",
   "execution_count": 5,
   "metadata": {},
   "outputs": [
    {
     "data": {
      "text/html": [
       "<div>\n",
       "<style scoped>\n",
       "    .dataframe tbody tr th:only-of-type {\n",
       "        vertical-align: middle;\n",
       "    }\n",
       "\n",
       "    .dataframe tbody tr th {\n",
       "        vertical-align: top;\n",
       "    }\n",
       "\n",
       "    .dataframe thead th {\n",
       "        text-align: right;\n",
       "    }\n",
       "</style>\n",
       "<table border=\"1\" class=\"dataframe\">\n",
       "  <thead>\n",
       "    <tr style=\"text-align: right;\">\n",
       "      <th></th>\n",
       "      <th>id_area</th>\n",
       "      <th>area</th>\n",
       "      <th>tipo</th>\n",
       "      <th>jefatura</th>\n",
       "      <th>objetivo</th>\n",
       "      <th>descripcion</th>\n",
       "    </tr>\n",
       "  </thead>\n",
       "  <tbody>\n",
       "  </tbody>\n",
       "</table>\n",
       "</div>"
      ],
      "text/plain": [
       "Empty DataFrame\n",
       "Columns: [id_area, area, tipo, jefatura, objetivo, descripcion]\n",
       "Index: []"
      ]
     },
     "execution_count": 5,
     "metadata": {},
     "output_type": "execute_result"
    }
   ],
   "source": [
    "#SELECT\n",
    "\n",
    "table = \"area\"\n",
    "\n",
    "q0 = f\"\"\"\n",
    "SELECT * FROM {table};\n",
    "\"\"\"\n",
    "\n",
    "pd.read_sql_query(q0, connection)"
   ]
  },
  {
   "cell_type": "code",
   "execution_count": 6,
   "metadata": {},
   "outputs": [
    {
     "name": "stdout",
     "output_type": "stream",
     "text": [
      "Query executed successfully\n"
     ]
    },
    {
     "data": {
      "text/html": [
       "<div>\n",
       "<style scoped>\n",
       "    .dataframe tbody tr th:only-of-type {\n",
       "        vertical-align: middle;\n",
       "    }\n",
       "\n",
       "    .dataframe tbody tr th {\n",
       "        vertical-align: top;\n",
       "    }\n",
       "\n",
       "    .dataframe thead th {\n",
       "        text-align: right;\n",
       "    }\n",
       "</style>\n",
       "<table border=\"1\" class=\"dataframe\">\n",
       "  <thead>\n",
       "    <tr style=\"text-align: right;\">\n",
       "      <th></th>\n",
       "      <th>id_area</th>\n",
       "      <th>area</th>\n",
       "      <th>tipo</th>\n",
       "      <th>jefatura</th>\n",
       "      <th>objetivo</th>\n",
       "      <th>descripcion</th>\n",
       "    </tr>\n",
       "  </thead>\n",
       "  <tbody>\n",
       "    <tr>\n",
       "      <th>0</th>\n",
       "      <td>1</td>\n",
       "      <td>area 1</td>\n",
       "      <td>Oficina</td>\n",
       "      <td>11.111.111-1</td>\n",
       "      <td>objetivo 1</td>\n",
       "      <td>descripcion</td>\n",
       "    </tr>\n",
       "    <tr>\n",
       "      <th>1</th>\n",
       "      <td>2</td>\n",
       "      <td>area 2</td>\n",
       "      <td>Gerencia</td>\n",
       "      <td>22.222.222-2</td>\n",
       "      <td>objetivo 2</td>\n",
       "      <td>descripcion</td>\n",
       "    </tr>\n",
       "  </tbody>\n",
       "</table>\n",
       "</div>"
      ],
      "text/plain": [
       "   id_area    area      tipo      jefatura    objetivo  descripcion\n",
       "0        1  area 1   Oficina  11.111.111-1  objetivo 1  descripcion\n",
       "1        2  area 2  Gerencia  22.222.222-2  objetivo 2  descripcion"
      ]
     },
     "execution_count": 6,
     "metadata": {},
     "output_type": "execute_result"
    }
   ],
   "source": [
    "#INSERT\n",
    "\n",
    "table = \"area\"\n",
    "columns = \"(id_area, area, tipo, jefatura, objetivo, descripcion)\"\n",
    "values1 =  \"(1, 'area 1', 'Oficina', '11.111.111-1', 'objetivo 1', 'descripcion')\"\n",
    "values2 =  \"(2, 'area 2', 'Gerencia', '22.222.222-2', 'objetivo 2', 'descripcion')\"\n",
    "\n",
    "q1 = f\"\"\"\n",
    "INSERT INTO {table} {columns}\n",
    "VALUES {values1}, {values2};\n",
    "\"\"\"\n",
    "\n",
    "execute_query(connection, q1)\n",
    "pd.read_sql_query(q0, connection)"
   ]
  },
  {
   "cell_type": "code",
   "execution_count": 8,
   "metadata": {},
   "outputs": [
    {
     "name": "stdout",
     "output_type": "stream",
     "text": [
      "Query executed successfully\n",
      "Query executed successfully\n"
     ]
    },
    {
     "data": {
      "text/html": [
       "<div>\n",
       "<style scoped>\n",
       "    .dataframe tbody tr th:only-of-type {\n",
       "        vertical-align: middle;\n",
       "    }\n",
       "\n",
       "    .dataframe tbody tr th {\n",
       "        vertical-align: top;\n",
       "    }\n",
       "\n",
       "    .dataframe thead th {\n",
       "        text-align: right;\n",
       "    }\n",
       "</style>\n",
       "<table border=\"1\" class=\"dataframe\">\n",
       "  <thead>\n",
       "    <tr style=\"text-align: right;\">\n",
       "      <th></th>\n",
       "      <th>id_area</th>\n",
       "      <th>area</th>\n",
       "      <th>tipo</th>\n",
       "      <th>jefatura</th>\n",
       "      <th>objetivo</th>\n",
       "      <th>descripcion</th>\n",
       "    </tr>\n",
       "  </thead>\n",
       "  <tbody>\n",
       "    <tr>\n",
       "      <th>0</th>\n",
       "      <td>1</td>\n",
       "      <td>area 1</td>\n",
       "      <td>Oficina</td>\n",
       "      <td>11.111.111-1</td>\n",
       "      <td>objetivo 1</td>\n",
       "      <td>descripción area 1</td>\n",
       "    </tr>\n",
       "    <tr>\n",
       "      <th>1</th>\n",
       "      <td>2</td>\n",
       "      <td>area 2</td>\n",
       "      <td>Gerencia</td>\n",
       "      <td>22.222.222-2</td>\n",
       "      <td>Objetivo area 2</td>\n",
       "      <td>descripcion</td>\n",
       "    </tr>\n",
       "  </tbody>\n",
       "</table>\n",
       "</div>"
      ],
      "text/plain": [
       "   id_area    area      tipo      jefatura         objetivo  \\\n",
       "0        1  area 1   Oficina  11.111.111-1       objetivo 1   \n",
       "1        2  area 2  Gerencia  22.222.222-2  Objetivo area 2   \n",
       "\n",
       "          descripcion  \n",
       "0  descripción area 1  \n",
       "1         descripcion  "
      ]
     },
     "execution_count": 8,
     "metadata": {},
     "output_type": "execute_result"
    }
   ],
   "source": [
    "#UPDATE\n",
    "\n",
    "table = \"area\"\n",
    "\n",
    "q2 = f\"\"\" \n",
    "UPDATE {table} \n",
    "SET descripcion = 'descripción area 1'\n",
    "WHERE id_area  = 1;\"\"\"\n",
    "\n",
    "q3 = f\"\"\" \n",
    "UPDATE {table} \n",
    "SET objetivo = 'Objetivo area 2'\n",
    "WHERE id_area  = 2;\"\"\"\n",
    "\n",
    "execute_query(connection, q2)\n",
    "execute_query(connection, q3)\n",
    "pd.read_sql_query(q0, connection)"
   ]
  },
  {
   "cell_type": "code",
   "execution_count": 11,
   "metadata": {},
   "outputs": [
    {
     "name": "stdout",
     "output_type": "stream",
     "text": [
      "Query executed successfully\n"
     ]
    },
    {
     "data": {
      "text/html": [
       "<div>\n",
       "<style scoped>\n",
       "    .dataframe tbody tr th:only-of-type {\n",
       "        vertical-align: middle;\n",
       "    }\n",
       "\n",
       "    .dataframe tbody tr th {\n",
       "        vertical-align: top;\n",
       "    }\n",
       "\n",
       "    .dataframe thead th {\n",
       "        text-align: right;\n",
       "    }\n",
       "</style>\n",
       "<table border=\"1\" class=\"dataframe\">\n",
       "  <thead>\n",
       "    <tr style=\"text-align: right;\">\n",
       "      <th></th>\n",
       "      <th>id_area</th>\n",
       "      <th>area</th>\n",
       "      <th>tipo</th>\n",
       "      <th>jefatura</th>\n",
       "      <th>objetivo</th>\n",
       "      <th>descripcion</th>\n",
       "    </tr>\n",
       "  </thead>\n",
       "  <tbody>\n",
       "  </tbody>\n",
       "</table>\n",
       "</div>"
      ],
      "text/plain": [
       "Empty DataFrame\n",
       "Columns: [id_area, area, tipo, jefatura, objetivo, descripcion]\n",
       "Index: []"
      ]
     },
     "execution_count": 11,
     "metadata": {},
     "output_type": "execute_result"
    }
   ],
   "source": [
    "#DELETE\n",
    "\n",
    "table = \"area\"\n",
    "\n",
    "q4 = f\"\"\" \n",
    "DELETE FROM {table}\n",
    "WHERE id_area  IN (1, 2);\"\"\"\n",
    "\n",
    "execute_query(connection, q4)\n",
    "pd.read_sql_query(q0, connection)"
   ]
  }
 ],
 "metadata": {
  "kernelspec": {
   "display_name": "Python 3",
   "language": "python",
   "name": "python3"
  },
  "language_info": {
   "codemirror_mode": {
    "name": "ipython",
    "version": 3
   },
   "file_extension": ".py",
   "mimetype": "text/x-python",
   "name": "python",
   "nbconvert_exporter": "python",
   "pygments_lexer": "ipython3",
   "version": "3.9.13"
  },
  "orig_nbformat": 4
 },
 "nbformat": 4,
 "nbformat_minor": 2
}

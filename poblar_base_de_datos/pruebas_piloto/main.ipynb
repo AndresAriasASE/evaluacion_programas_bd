{
 "cells": [
  {
   "attachments": {},
   "cell_type": "markdown",
   "metadata": {},
   "source": [
    "# Prueba Piloto"
   ]
  },
  {
   "attachments": {},
   "cell_type": "markdown",
   "metadata": {},
   "source": [
    "Librerías y Definiciones"
   ]
  },
  {
   "cell_type": "code",
   "execution_count": 1,
   "metadata": {},
   "outputs": [],
   "source": [
    "#Librerías\n",
    "import functions as fc"
   ]
  },
  {
   "cell_type": "code",
   "execution_count": 2,
   "metadata": {},
   "outputs": [],
   "source": [
    "#Archivos\n",
    "log_file = \"logs.log\"\n",
    "connection_file = 'db_conection.json'\n",
    "excel_file = 'prueba_carga_datos.xlsx'\n",
    "map_file = 'columns_names_map.json'"
   ]
  },
  {
   "cell_type": "code",
   "execution_count": 3,
   "metadata": {},
   "outputs": [
    {
     "name": "stderr",
     "output_type": "stream",
     "text": [
      "06/14/2023 17:38:11 root            INFO     Log creado\n",
      "06/14/2023 17:38:12 mysql.connector INFO     package: mysql.connector.plugins\n",
      "06/14/2023 17:38:12 mysql.connector INFO     plugin_name: mysql_native_password\n",
      "06/14/2023 17:38:12 mysql.connector INFO     AUTHENTICATION_PLUGIN_CLASS: MySQLNativePasswordAuthPlugin\n",
      "06/14/2023 17:38:13 root            INFO     Conexión a Base de datos MySQL \"piloto_v1\" exitosa\n"
     ]
    }
   ],
   "source": [
    "#Deine Logs\n",
    "fc.log_config(log_file)\n",
    "#Establece conexión con BD\n",
    "connection = fc.create_connection(connection_file)"
   ]
  },
  {
   "attachments": {},
   "cell_type": "markdown",
   "metadata": {},
   "source": [
    "Consulta tablas en BD"
   ]
  },
  {
   "cell_type": "code",
   "execution_count": 4,
   "metadata": {},
   "outputs": [
    {
     "name": "stderr",
     "output_type": "stream",
     "text": [
      "06/14/2023 17:38:17 root            INFO     Consulta \"SELECT * FROM area\" exitosa\n"
     ]
    },
    {
     "name": "stdout",
     "output_type": "stream",
     "text": [
      "Empty DataFrame\n",
      "Columns: [id_area, area, tipo, jefatura, objetivo, descripcion]\n",
      "Index: [] \n",
      "\n"
     ]
    },
    {
     "name": "stderr",
     "output_type": "stream",
     "text": [
      "06/14/2023 17:38:17 root            INFO     Consulta \"SELECT * FROM colaboradores_agencia\" exitosa\n"
     ]
    },
    {
     "name": "stdout",
     "output_type": "stream",
     "text": [
      "Empty DataFrame\n",
      "Columns: [rut_colaborador, nombre, apellido_paterno, apellido_materno, cargo, id_area, genero, pueblo_originario, estado, f_ingreso, f_retiro]\n",
      "Index: [] \n",
      "\n"
     ]
    }
   ],
   "source": [
    "#SELECT\n",
    "table_names = ['area', 'colaboradores_agencia']\n",
    "for table in table_names:\n",
    "    df_table = fc.select_all_table(table, connection)\n",
    "    print(df_table.head(10),'\\n')"
   ]
  },
  {
   "attachments": {},
   "cell_type": "markdown",
   "metadata": {},
   "source": [
    "### Carga Datos Areas"
   ]
  },
  {
   "attachments": {},
   "cell_type": "markdown",
   "metadata": {},
   "source": [
    "Importación archivo de datos desde excel"
   ]
  },
  {
   "cell_type": "code",
   "execution_count": 6,
   "metadata": {},
   "outputs": [
    {
     "name": "stderr",
     "output_type": "stream",
     "text": [
      "06/14/2023 17:38:35 root            INFO     Archivo: prueba_carga_datos.xlsx / hoja: \"area\" cargado correctamente\n"
     ]
    },
    {
     "name": "stdout",
     "output_type": "stream",
     "text": [
      "Primeras 15 filas del Dataframe cargado:\n"
     ]
    },
    {
     "data": {
      "text/html": [
       "<div>\n",
       "<style scoped>\n",
       "    .dataframe tbody tr th:only-of-type {\n",
       "        vertical-align: middle;\n",
       "    }\n",
       "\n",
       "    .dataframe tbody tr th {\n",
       "        vertical-align: top;\n",
       "    }\n",
       "\n",
       "    .dataframe thead th {\n",
       "        text-align: right;\n",
       "    }\n",
       "</style>\n",
       "<table border=\"1\" class=\"dataframe\">\n",
       "  <thead>\n",
       "    <tr style=\"text-align: right;\">\n",
       "      <th></th>\n",
       "      <th>ID</th>\n",
       "      <th>Tipo</th>\n",
       "      <th>Nombre</th>\n",
       "      <th>Sigla</th>\n",
       "      <th>Objetivo</th>\n",
       "      <th>Comentario</th>\n",
       "      <th>Jefatura</th>\n",
       "    </tr>\n",
       "  </thead>\n",
       "  <tbody>\n",
       "    <tr>\n",
       "      <th>0</th>\n",
       "      <td>NaN</td>\n",
       "      <td>Área de Ejecución</td>\n",
       "      <td>A1</td>\n",
       "      <td>x</td>\n",
       "      <td>Objetivo</td>\n",
       "      <td>-</td>\n",
       "      <td>1.111.111-1</td>\n",
       "    </tr>\n",
       "    <tr>\n",
       "      <th>1</th>\n",
       "      <td>2.0</td>\n",
       "      <td>Área de Ejecución</td>\n",
       "      <td>A2</td>\n",
       "      <td>x</td>\n",
       "      <td>Objetivo</td>\n",
       "      <td>-</td>\n",
       "      <td>2.222.222-2</td>\n",
       "    </tr>\n",
       "    <tr>\n",
       "      <th>2</th>\n",
       "      <td>2.0</td>\n",
       "      <td>Área de Ejecución</td>\n",
       "      <td>A2 Duplicado</td>\n",
       "      <td>x</td>\n",
       "      <td>Objetivo</td>\n",
       "      <td>-</td>\n",
       "      <td>2.222.222-2</td>\n",
       "    </tr>\n",
       "    <tr>\n",
       "      <th>3</th>\n",
       "      <td>3.0</td>\n",
       "      <td>Área de Ejecución</td>\n",
       "      <td>A3</td>\n",
       "      <td>x</td>\n",
       "      <td>Objetivo</td>\n",
       "      <td>-</td>\n",
       "      <td>3.333.333-3</td>\n",
       "    </tr>\n",
       "    <tr>\n",
       "      <th>4</th>\n",
       "      <td>NaN</td>\n",
       "      <td>Oficina Temática</td>\n",
       "      <td>A4</td>\n",
       "      <td>x</td>\n",
       "      <td>Objetivo</td>\n",
       "      <td>-</td>\n",
       "      <td>4.444.444-4</td>\n",
       "    </tr>\n",
       "    <tr>\n",
       "      <th>5</th>\n",
       "      <td>5.0</td>\n",
       "      <td>Oficina Temática</td>\n",
       "      <td>A5</td>\n",
       "      <td>x</td>\n",
       "      <td>Objetivo</td>\n",
       "      <td>-</td>\n",
       "      <td>5.555.555-5</td>\n",
       "    </tr>\n",
       "    <tr>\n",
       "      <th>6</th>\n",
       "      <td>5.0</td>\n",
       "      <td>Oficina Temática</td>\n",
       "      <td>A5 Duplicado</td>\n",
       "      <td>x</td>\n",
       "      <td>Objetivo</td>\n",
       "      <td>-</td>\n",
       "      <td>5.555.555-5</td>\n",
       "    </tr>\n",
       "    <tr>\n",
       "      <th>7</th>\n",
       "      <td>6.0</td>\n",
       "      <td>Gerencia</td>\n",
       "      <td>A6</td>\n",
       "      <td>x</td>\n",
       "      <td>Objetivo</td>\n",
       "      <td>-</td>\n",
       "      <td>6.666.666-6</td>\n",
       "    </tr>\n",
       "    <tr>\n",
       "      <th>8</th>\n",
       "      <td>7.0</td>\n",
       "      <td>Gerencia</td>\n",
       "      <td>A7</td>\n",
       "      <td>x</td>\n",
       "      <td>Objetivo</td>\n",
       "      <td>-</td>\n",
       "      <td>7.777.777-7</td>\n",
       "    </tr>\n",
       "    <tr>\n",
       "      <th>9</th>\n",
       "      <td>7.0</td>\n",
       "      <td>Gerencia</td>\n",
       "      <td>A7 Duplicado</td>\n",
       "      <td>x</td>\n",
       "      <td>Objetivo</td>\n",
       "      <td>-</td>\n",
       "      <td>7.777.777-7</td>\n",
       "    </tr>\n",
       "    <tr>\n",
       "      <th>10</th>\n",
       "      <td>7.0</td>\n",
       "      <td>Gerencia</td>\n",
       "      <td>A7 Duplicado</td>\n",
       "      <td>x</td>\n",
       "      <td>Objetivo</td>\n",
       "      <td>-</td>\n",
       "      <td>7.777.777-7</td>\n",
       "    </tr>\n",
       "    <tr>\n",
       "      <th>11</th>\n",
       "      <td>7.0</td>\n",
       "      <td>Gerencia</td>\n",
       "      <td>A7 Duplicado</td>\n",
       "      <td>x</td>\n",
       "      <td>Objetivo</td>\n",
       "      <td>-</td>\n",
       "      <td>7.777.777-7</td>\n",
       "    </tr>\n",
       "  </tbody>\n",
       "</table>\n",
       "</div>"
      ],
      "text/plain": [
       "     ID               Tipo        Nombre Sigla  Objetivo Comentario  \\\n",
       "0   NaN  Área de Ejecución            A1     x  Objetivo          -   \n",
       "1   2.0  Área de Ejecución            A2     x  Objetivo          -   \n",
       "2   2.0  Área de Ejecución  A2 Duplicado     x  Objetivo          -   \n",
       "3   3.0  Área de Ejecución            A3     x  Objetivo          -   \n",
       "4   NaN   Oficina Temática            A4     x  Objetivo          -   \n",
       "5   5.0   Oficina Temática            A5     x  Objetivo          -   \n",
       "6   5.0   Oficina Temática  A5 Duplicado     x  Objetivo          -   \n",
       "7   6.0           Gerencia            A6     x  Objetivo          -   \n",
       "8   7.0           Gerencia            A7     x  Objetivo          -   \n",
       "9   7.0           Gerencia  A7 Duplicado     x  Objetivo          -   \n",
       "10  7.0           Gerencia  A7 Duplicado     x  Objetivo          -   \n",
       "11  7.0           Gerencia  A7 Duplicado     x  Objetivo          -   \n",
       "\n",
       "       Jefatura  \n",
       "0   1.111.111-1  \n",
       "1   2.222.222-2  \n",
       "2   2.222.222-2  \n",
       "3   3.333.333-3  \n",
       "4   4.444.444-4  \n",
       "5   5.555.555-5  \n",
       "6   5.555.555-5  \n",
       "7   6.666.666-6  \n",
       "8   7.777.777-7  \n",
       "9   7.777.777-7  \n",
       "10  7.777.777-7  \n",
       "11  7.777.777-7  "
      ]
     },
     "execution_count": 6,
     "metadata": {},
     "output_type": "execute_result"
    }
   ],
   "source": [
    "sheet_name = 'area'\n",
    "df_area = fc.import_data_excel(excel_file, sheet_name)\n",
    "print('Primeras 15 filas del Dataframe cargado:')\n",
    "df_area.head(15)"
   ]
  },
  {
   "attachments": {},
   "cell_type": "markdown",
   "metadata": {},
   "source": [
    "Tratamiento de datos"
   ]
  },
  {
   "cell_type": "code",
   "execution_count": 7,
   "metadata": {},
   "outputs": [
    {
     "name": "stderr",
     "output_type": "stream",
     "text": [
      "06/14/2023 17:38:49 root            INFO     Columnas renombradas: {'ID': 'id_area', 'Nombre': 'area', 'Tipo': 'tipo', 'Jefatura': 'jefatura', 'Objetivo': 'objetivo'}\n",
      "06/14/2023 17:38:49 root            INFO     Filas nulas a descartar:\n",
      "    id_area area               tipo     jefatura  objetivo\n",
      "0      NaN   A1  Área de Ejecución  1.111.111-1  Objetivo\n",
      "4      NaN   A4   Oficina Temática  4.444.444-4  Objetivo\n",
      "06/14/2023 17:38:49 root            INFO     Filas duplicadas a descartar:\n",
      "     id_area          area               tipo     jefatura  objetivo\n",
      "1       2.0            A2  Área de Ejecución  2.222.222-2  Objetivo\n",
      "5       5.0            A5   Oficina Temática  5.555.555-5  Objetivo\n",
      "8       7.0            A7           Gerencia  7.777.777-7  Objetivo\n",
      "9       7.0  A7 Duplicado           Gerencia  7.777.777-7  Objetivo\n",
      "10      7.0  A7 Duplicado           Gerencia  7.777.777-7  Objetivo\n",
      "06/14/2023 17:38:49 root            INFO     Nuevos tipos de datos:\n",
      "   id_area    area    tipo jefatura objetivo\n",
      "0   int64  object  object   object   object\n"
     ]
    },
    {
     "name": "stdout",
     "output_type": "stream",
     "text": [
      "Primeras 10 filas del Dataframe:\n"
     ]
    },
    {
     "data": {
      "text/html": [
       "<div>\n",
       "<style scoped>\n",
       "    .dataframe tbody tr th:only-of-type {\n",
       "        vertical-align: middle;\n",
       "    }\n",
       "\n",
       "    .dataframe tbody tr th {\n",
       "        vertical-align: top;\n",
       "    }\n",
       "\n",
       "    .dataframe thead th {\n",
       "        text-align: right;\n",
       "    }\n",
       "</style>\n",
       "<table border=\"1\" class=\"dataframe\">\n",
       "  <thead>\n",
       "    <tr style=\"text-align: right;\">\n",
       "      <th></th>\n",
       "      <th>id_area</th>\n",
       "      <th>area</th>\n",
       "      <th>tipo</th>\n",
       "      <th>jefatura</th>\n",
       "      <th>objetivo</th>\n",
       "    </tr>\n",
       "  </thead>\n",
       "  <tbody>\n",
       "    <tr>\n",
       "      <th>1</th>\n",
       "      <td>2</td>\n",
       "      <td>A2</td>\n",
       "      <td>Área de Ejecución</td>\n",
       "      <td>2.222.222-2</td>\n",
       "      <td>Objetivo</td>\n",
       "    </tr>\n",
       "    <tr>\n",
       "      <th>3</th>\n",
       "      <td>3</td>\n",
       "      <td>A3</td>\n",
       "      <td>Área de Ejecución</td>\n",
       "      <td>3.333.333-3</td>\n",
       "      <td>Objetivo</td>\n",
       "    </tr>\n",
       "    <tr>\n",
       "      <th>5</th>\n",
       "      <td>5</td>\n",
       "      <td>A5</td>\n",
       "      <td>Oficina Temática</td>\n",
       "      <td>5.555.555-5</td>\n",
       "      <td>Objetivo</td>\n",
       "    </tr>\n",
       "    <tr>\n",
       "      <th>7</th>\n",
       "      <td>6</td>\n",
       "      <td>A6</td>\n",
       "      <td>Gerencia</td>\n",
       "      <td>6.666.666-6</td>\n",
       "      <td>Objetivo</td>\n",
       "    </tr>\n",
       "    <tr>\n",
       "      <th>8</th>\n",
       "      <td>7</td>\n",
       "      <td>A7</td>\n",
       "      <td>Gerencia</td>\n",
       "      <td>7.777.777-7</td>\n",
       "      <td>Objetivo</td>\n",
       "    </tr>\n",
       "  </tbody>\n",
       "</table>\n",
       "</div>"
      ],
      "text/plain": [
       "   id_area area               tipo     jefatura  objetivo\n",
       "1        2   A2  Área de Ejecución  2.222.222-2  Objetivo\n",
       "3        3   A3  Área de Ejecución  3.333.333-3  Objetivo\n",
       "5        5   A5   Oficina Temática  5.555.555-5  Objetivo\n",
       "7        6   A6           Gerencia  6.666.666-6  Objetivo\n",
       "8        7   A7           Gerencia  7.777.777-7  Objetivo"
      ]
     },
     "execution_count": 7,
     "metadata": {},
     "output_type": "execute_result"
    }
   ],
   "source": [
    "table_name = 'area'\n",
    "df_area_clean = fc.clean_df(df_area, table_name, map_file, connection)\n",
    "print('Primeras 10 filas del Dataframe:')\n",
    "df_area_clean.head(10)"
   ]
  },
  {
   "attachments": {},
   "cell_type": "markdown",
   "metadata": {},
   "source": [
    "Construcción sentencia SQL + Insertar datos en BD"
   ]
  },
  {
   "cell_type": "code",
   "execution_count": 8,
   "metadata": {},
   "outputs": [
    {
     "name": "stderr",
     "output_type": "stream",
     "text": [
      "06/14/2023 17:38:54 root            INFO     Generando consulta INSERT SQL\n"
     ]
    },
    {
     "name": "stdout",
     "output_type": "stream",
     "text": [
      "\n",
      "    INSERT INTO area (id_area, area, tipo, jefatura, objetivo)\n",
      "    VALUES (2, 'A2', 'Área de Ejecución', '2.222.222-2', 'Objetivo'), (3, 'A3', 'Área de Ejecución', '3.333.333-3', 'Objetivo'), (5, 'A5', 'Oficina Temática', '5.555.555-5', 'Objetivo'), (6, 'A6', 'Gerencia', '6.666.666-6', 'Objetivo'), (7, 'A7', 'Gerencia', '7.777.777-7', 'Objetivo');\n",
      "    \n"
     ]
    },
    {
     "name": "stderr",
     "output_type": "stream",
     "text": [
      "06/14/2023 17:38:55 root            INFO     Consulta INSERT/UPDATE/DELETE exitosa\n",
      "06/14/2023 17:38:55 root            INFO     Consulta \"SELECT * FROM area\" exitosa\n"
     ]
    },
    {
     "name": "stdout",
     "output_type": "stream",
     "text": [
      "Primeras 10 filas en la BD:\n"
     ]
    },
    {
     "data": {
      "text/html": [
       "<div>\n",
       "<style scoped>\n",
       "    .dataframe tbody tr th:only-of-type {\n",
       "        vertical-align: middle;\n",
       "    }\n",
       "\n",
       "    .dataframe tbody tr th {\n",
       "        vertical-align: top;\n",
       "    }\n",
       "\n",
       "    .dataframe thead th {\n",
       "        text-align: right;\n",
       "    }\n",
       "</style>\n",
       "<table border=\"1\" class=\"dataframe\">\n",
       "  <thead>\n",
       "    <tr style=\"text-align: right;\">\n",
       "      <th></th>\n",
       "      <th>id_area</th>\n",
       "      <th>area</th>\n",
       "      <th>tipo</th>\n",
       "      <th>jefatura</th>\n",
       "      <th>objetivo</th>\n",
       "      <th>descripcion</th>\n",
       "    </tr>\n",
       "  </thead>\n",
       "  <tbody>\n",
       "    <tr>\n",
       "      <th>0</th>\n",
       "      <td>2</td>\n",
       "      <td>A2</td>\n",
       "      <td>Área de Ejecución</td>\n",
       "      <td>2.222.222-2</td>\n",
       "      <td>Objetivo</td>\n",
       "      <td>None</td>\n",
       "    </tr>\n",
       "    <tr>\n",
       "      <th>1</th>\n",
       "      <td>3</td>\n",
       "      <td>A3</td>\n",
       "      <td>Área de Ejecución</td>\n",
       "      <td>3.333.333-3</td>\n",
       "      <td>Objetivo</td>\n",
       "      <td>None</td>\n",
       "    </tr>\n",
       "    <tr>\n",
       "      <th>2</th>\n",
       "      <td>5</td>\n",
       "      <td>A5</td>\n",
       "      <td>Oficina Temática</td>\n",
       "      <td>5.555.555-5</td>\n",
       "      <td>Objetivo</td>\n",
       "      <td>None</td>\n",
       "    </tr>\n",
       "    <tr>\n",
       "      <th>3</th>\n",
       "      <td>6</td>\n",
       "      <td>A6</td>\n",
       "      <td>Gerencia</td>\n",
       "      <td>6.666.666-6</td>\n",
       "      <td>Objetivo</td>\n",
       "      <td>None</td>\n",
       "    </tr>\n",
       "    <tr>\n",
       "      <th>4</th>\n",
       "      <td>7</td>\n",
       "      <td>A7</td>\n",
       "      <td>Gerencia</td>\n",
       "      <td>7.777.777-7</td>\n",
       "      <td>Objetivo</td>\n",
       "      <td>None</td>\n",
       "    </tr>\n",
       "  </tbody>\n",
       "</table>\n",
       "</div>"
      ],
      "text/plain": [
       "   id_area area               tipo     jefatura  objetivo descripcion\n",
       "0        2   A2  Área de Ejecución  2.222.222-2  Objetivo        None\n",
       "1        3   A3  Área de Ejecución  3.333.333-3  Objetivo        None\n",
       "2        5   A5   Oficina Temática  5.555.555-5  Objetivo        None\n",
       "3        6   A6           Gerencia  6.666.666-6  Objetivo        None\n",
       "4        7   A7           Gerencia  7.777.777-7  Objetivo        None"
      ]
     },
     "execution_count": 8,
     "metadata": {},
     "output_type": "execute_result"
    }
   ],
   "source": [
    "#Sentencia SQL\n",
    "q1 = fc.insert_from_df(table_name, df_area_clean)\n",
    "print(q1)\n",
    "#Inserta datos\n",
    "fc.execute_query(connection, q1)\n",
    "df = fc.select_all_table (table_name, connection)\n",
    "print('Primeras 10 filas en la BD:')\n",
    "df.head(10)"
   ]
  },
  {
   "attachments": {},
   "cell_type": "markdown",
   "metadata": {},
   "source": [
    "Carga datos adicionales"
   ]
  },
  {
   "cell_type": "code",
   "execution_count": 9,
   "metadata": {},
   "outputs": [
    {
     "name": "stderr",
     "output_type": "stream",
     "text": [
      "06/14/2023 17:41:46 root            INFO     Archivo: prueba_carga_datos.xlsx / hoja: \"area_2\" cargado correctamente\n",
      "06/14/2023 17:41:46 root            INFO     Columnas renombradas: {'ID': 'id_area', 'Nombre': 'area', 'Tipo': 'tipo', 'Jefatura': 'jefatura', 'Objetivo': 'objetivo'}\n",
      "06/14/2023 17:41:46 root            INFO     Filas nulas a descartar:\n",
      "    id_area area               tipo     jefatura  objetivo\n",
      "0      NaN   A1  Área de Ejecución  1.111.111-1  Objetivo\n",
      "4      NaN   A4   Oficina Temática  4.444.444-4  Objetivo\n",
      "06/14/2023 17:41:46 root            INFO     Filas duplicadas a descartar:\n",
      "     id_area          area               tipo     jefatura  objetivo\n",
      "1       2.0            A2  Área de Ejecución  2.222.222-2  Objetivo\n",
      "5       5.0            A5   Oficina Temática  5.555.555-5  Objetivo\n",
      "8       7.0            A7           Gerencia  7.777.777-7  Objetivo\n",
      "9       7.0  A7 Duplicado           Gerencia  7.777.777-7  Objetivo\n",
      "10      7.0  A7 Duplicado           Gerencia  7.777.777-7  Objetivo\n",
      "06/14/2023 17:41:46 root            INFO     Nuevos tipos de datos:\n",
      "   id_area    area    tipo jefatura objetivo\n",
      "0   int64  object  object   object   object\n"
     ]
    },
    {
     "name": "stderr",
     "output_type": "stream",
     "text": [
      "06/14/2023 17:41:46 root            INFO     Llaves Primarias existentes en BD a descartar:\n",
      " [2, 3, 5, 6, 7]\n"
     ]
    },
    {
     "name": "stdout",
     "output_type": "stream",
     "text": [
      "Primeras 10 filas del Dataframe:\n"
     ]
    },
    {
     "data": {
      "text/html": [
       "<div>\n",
       "<style scoped>\n",
       "    .dataframe tbody tr th:only-of-type {\n",
       "        vertical-align: middle;\n",
       "    }\n",
       "\n",
       "    .dataframe tbody tr th {\n",
       "        vertical-align: top;\n",
       "    }\n",
       "\n",
       "    .dataframe thead th {\n",
       "        text-align: right;\n",
       "    }\n",
       "</style>\n",
       "<table border=\"1\" class=\"dataframe\">\n",
       "  <thead>\n",
       "    <tr style=\"text-align: right;\">\n",
       "      <th></th>\n",
       "      <th>id_area</th>\n",
       "      <th>area</th>\n",
       "      <th>tipo</th>\n",
       "      <th>jefatura</th>\n",
       "      <th>objetivo</th>\n",
       "    </tr>\n",
       "  </thead>\n",
       "  <tbody>\n",
       "    <tr>\n",
       "      <th>0</th>\n",
       "      <td>8</td>\n",
       "      <td>A8</td>\n",
       "      <td>Gerencia</td>\n",
       "      <td>8.888.888-8</td>\n",
       "      <td>Objetivo</td>\n",
       "    </tr>\n",
       "    <tr>\n",
       "      <th>1</th>\n",
       "      <td>9</td>\n",
       "      <td>A9</td>\n",
       "      <td>Gerencia</td>\n",
       "      <td>9.999.999-9</td>\n",
       "      <td>Objetivo</td>\n",
       "    </tr>\n",
       "  </tbody>\n",
       "</table>\n",
       "</div>"
      ],
      "text/plain": [
       "   id_area area      tipo     jefatura  objetivo\n",
       "0        8   A8  Gerencia  8.888.888-8  Objetivo\n",
       "1        9   A9  Gerencia  9.999.999-9  Objetivo"
      ]
     },
     "execution_count": 9,
     "metadata": {},
     "output_type": "execute_result"
    }
   ],
   "source": [
    "sheet_name = 'area_2'\n",
    "df_area_2 = fc.import_data_excel(excel_file, sheet_name)\n",
    "df_area_clean_2 = fc.clean_df(df_area_2, table_name, map_file, connection)\n",
    "print('Primeras 10 filas del Dataframe:')\n",
    "df_area_clean_2.head(10)"
   ]
  },
  {
   "cell_type": "code",
   "execution_count": 10,
   "metadata": {},
   "outputs": [
    {
     "name": "stderr",
     "output_type": "stream",
     "text": [
      "06/14/2023 17:30:23 root            INFO     Generando consulta INSERT SQL\n"
     ]
    },
    {
     "name": "stdout",
     "output_type": "stream",
     "text": [
      "\n",
      "    INSERT INTO area (id_area, area, tipo, jefatura, objetivo)\n",
      "    VALUES (8, 'A8', 'Gerencia', '8.888.888-8', 'Objetivo'), (9, 'A9', 'Gerencia', '9.999.999-9', 'Objetivo');\n",
      "    \n"
     ]
    },
    {
     "name": "stderr",
     "output_type": "stream",
     "text": [
      "06/14/2023 17:30:24 root            INFO     Consulta INSERT/UPDATE/DELETE exitosa\n",
      "06/14/2023 17:30:24 root            INFO     Consulta \"SELECT * FROM area\" exitosa\n"
     ]
    },
    {
     "name": "stdout",
     "output_type": "stream",
     "text": [
      "Primeras 10 filas en la BD:\n"
     ]
    },
    {
     "data": {
      "text/html": [
       "<div>\n",
       "<style scoped>\n",
       "    .dataframe tbody tr th:only-of-type {\n",
       "        vertical-align: middle;\n",
       "    }\n",
       "\n",
       "    .dataframe tbody tr th {\n",
       "        vertical-align: top;\n",
       "    }\n",
       "\n",
       "    .dataframe thead th {\n",
       "        text-align: right;\n",
       "    }\n",
       "</style>\n",
       "<table border=\"1\" class=\"dataframe\">\n",
       "  <thead>\n",
       "    <tr style=\"text-align: right;\">\n",
       "      <th></th>\n",
       "      <th>id_area</th>\n",
       "      <th>area</th>\n",
       "      <th>tipo</th>\n",
       "      <th>jefatura</th>\n",
       "      <th>objetivo</th>\n",
       "      <th>descripcion</th>\n",
       "    </tr>\n",
       "  </thead>\n",
       "  <tbody>\n",
       "    <tr>\n",
       "      <th>0</th>\n",
       "      <td>2</td>\n",
       "      <td>A2</td>\n",
       "      <td>Área de Ejecución</td>\n",
       "      <td>2.222.222-2</td>\n",
       "      <td>Objetivo</td>\n",
       "      <td>None</td>\n",
       "    </tr>\n",
       "    <tr>\n",
       "      <th>1</th>\n",
       "      <td>3</td>\n",
       "      <td>A3</td>\n",
       "      <td>Área de Ejecución</td>\n",
       "      <td>3.333.333-3</td>\n",
       "      <td>Objetivo</td>\n",
       "      <td>None</td>\n",
       "    </tr>\n",
       "    <tr>\n",
       "      <th>2</th>\n",
       "      <td>5</td>\n",
       "      <td>A5</td>\n",
       "      <td>Oficina Temática</td>\n",
       "      <td>5.555.555-5</td>\n",
       "      <td>Objetivo</td>\n",
       "      <td>None</td>\n",
       "    </tr>\n",
       "    <tr>\n",
       "      <th>3</th>\n",
       "      <td>6</td>\n",
       "      <td>A6</td>\n",
       "      <td>Gerencia</td>\n",
       "      <td>6.666.666-6</td>\n",
       "      <td>Objetivo</td>\n",
       "      <td>None</td>\n",
       "    </tr>\n",
       "    <tr>\n",
       "      <th>4</th>\n",
       "      <td>7</td>\n",
       "      <td>A7</td>\n",
       "      <td>Gerencia</td>\n",
       "      <td>7.777.777-7</td>\n",
       "      <td>Objetivo</td>\n",
       "      <td>None</td>\n",
       "    </tr>\n",
       "    <tr>\n",
       "      <th>5</th>\n",
       "      <td>8</td>\n",
       "      <td>A8</td>\n",
       "      <td>Gerencia</td>\n",
       "      <td>8.888.888-8</td>\n",
       "      <td>Objetivo</td>\n",
       "      <td>None</td>\n",
       "    </tr>\n",
       "    <tr>\n",
       "      <th>6</th>\n",
       "      <td>9</td>\n",
       "      <td>A9</td>\n",
       "      <td>Gerencia</td>\n",
       "      <td>9.999.999-9</td>\n",
       "      <td>Objetivo</td>\n",
       "      <td>None</td>\n",
       "    </tr>\n",
       "  </tbody>\n",
       "</table>\n",
       "</div>"
      ],
      "text/plain": [
       "   id_area area               tipo     jefatura  objetivo descripcion\n",
       "0        2   A2  Área de Ejecución  2.222.222-2  Objetivo        None\n",
       "1        3   A3  Área de Ejecución  3.333.333-3  Objetivo        None\n",
       "2        5   A5   Oficina Temática  5.555.555-5  Objetivo        None\n",
       "3        6   A6           Gerencia  6.666.666-6  Objetivo        None\n",
       "4        7   A7           Gerencia  7.777.777-7  Objetivo        None\n",
       "5        8   A8           Gerencia  8.888.888-8  Objetivo        None\n",
       "6        9   A9           Gerencia  9.999.999-9  Objetivo        None"
      ]
     },
     "execution_count": 10,
     "metadata": {},
     "output_type": "execute_result"
    }
   ],
   "source": [
    "#Sentencia SQL\n",
    "q2 = fc.insert_from_df(table_name, df_area_clean_2)\n",
    "print(q2)\n",
    "#Inserta datos\n",
    "fc.execute_query(connection, q2)\n",
    "df = fc.select_all_table (table_name, connection)\n",
    "print('Primeras 10 filas en la BD:')\n",
    "df.head(10)"
   ]
  },
  {
   "attachments": {},
   "cell_type": "markdown",
   "metadata": {},
   "source": [
    "### Carga Datos Colaboradores"
   ]
  },
  {
   "attachments": {},
   "cell_type": "markdown",
   "metadata": {},
   "source": [
    "Importación archivo de datos desde excel"
   ]
  },
  {
   "cell_type": "code",
   "execution_count": 10,
   "metadata": {},
   "outputs": [
    {
     "name": "stderr",
     "output_type": "stream",
     "text": [
      "06/14/2023 17:06:01 root            INFO     Archivo: prueba_carga_datos.xlsx / hoja: \"colaboradores_agencia\" cargado correctamente\n"
     ]
    },
    {
     "name": "stdout",
     "output_type": "stream",
     "text": [
      "Primeras 10 filas del Dataframe:\n"
     ]
    },
    {
     "data": {
      "text/html": [
       "<div>\n",
       "<style scoped>\n",
       "    .dataframe tbody tr th:only-of-type {\n",
       "        vertical-align: middle;\n",
       "    }\n",
       "\n",
       "    .dataframe tbody tr th {\n",
       "        vertical-align: top;\n",
       "    }\n",
       "\n",
       "    .dataframe thead th {\n",
       "        text-align: right;\n",
       "    }\n",
       "</style>\n",
       "<table border=\"1\" class=\"dataframe\">\n",
       "  <thead>\n",
       "    <tr style=\"text-align: right;\">\n",
       "      <th></th>\n",
       "      <th>Nombres</th>\n",
       "      <th>Apellido Paterno</th>\n",
       "      <th>Apellido Materno</th>\n",
       "      <th>Rut</th>\n",
       "      <th>Teléfono</th>\n",
       "      <th>Cargo</th>\n",
       "      <th>Area</th>\n",
       "    </tr>\n",
       "  </thead>\n",
       "  <tbody>\n",
       "    <tr>\n",
       "      <th>0</th>\n",
       "      <td>Nombre 1</td>\n",
       "      <td>Apellido P1</td>\n",
       "      <td>NaN</td>\n",
       "      <td>1.111.111-1</td>\n",
       "      <td>1234567890</td>\n",
       "      <td>NaN</td>\n",
       "      <td>2</td>\n",
       "    </tr>\n",
       "    <tr>\n",
       "      <th>1</th>\n",
       "      <td>Nombre 2</td>\n",
       "      <td>NaN</td>\n",
       "      <td>Apellido M2</td>\n",
       "      <td>2.222.222-2</td>\n",
       "      <td>1234567890</td>\n",
       "      <td>NaN</td>\n",
       "      <td>2</td>\n",
       "    </tr>\n",
       "    <tr>\n",
       "      <th>2</th>\n",
       "      <td>NaN</td>\n",
       "      <td>Apellido P3</td>\n",
       "      <td>Apellido M3</td>\n",
       "      <td>3.333.333-3</td>\n",
       "      <td>1234567890</td>\n",
       "      <td>NaN</td>\n",
       "      <td>2</td>\n",
       "    </tr>\n",
       "    <tr>\n",
       "      <th>3</th>\n",
       "      <td>Nombre 4</td>\n",
       "      <td>Apellido P4</td>\n",
       "      <td>Apellido M4</td>\n",
       "      <td>4.444.444-4</td>\n",
       "      <td>1234567890</td>\n",
       "      <td>NaN</td>\n",
       "      <td>3</td>\n",
       "    </tr>\n",
       "    <tr>\n",
       "      <th>4</th>\n",
       "      <td>Nombre 5</td>\n",
       "      <td>Apellido P5</td>\n",
       "      <td>Apellido M5</td>\n",
       "      <td>5.555.555-5</td>\n",
       "      <td>1234567890</td>\n",
       "      <td>NaN</td>\n",
       "      <td>3</td>\n",
       "    </tr>\n",
       "    <tr>\n",
       "      <th>5</th>\n",
       "      <td>Nombre 6</td>\n",
       "      <td>Apellido P6</td>\n",
       "      <td>Apellido M6</td>\n",
       "      <td>NaN</td>\n",
       "      <td>1234567890</td>\n",
       "      <td>NaN</td>\n",
       "      <td>7</td>\n",
       "    </tr>\n",
       "    <tr>\n",
       "      <th>6</th>\n",
       "      <td>Nombre 7</td>\n",
       "      <td>Apellido P7</td>\n",
       "      <td>Apellido M7</td>\n",
       "      <td>7.777.777-7</td>\n",
       "      <td>1234567890</td>\n",
       "      <td>NaN</td>\n",
       "      <td>7</td>\n",
       "    </tr>\n",
       "    <tr>\n",
       "      <th>7</th>\n",
       "      <td>Nombre 7</td>\n",
       "      <td>Apellido P7</td>\n",
       "      <td>Apellido M7</td>\n",
       "      <td>7.777.777-7</td>\n",
       "      <td>1234567890</td>\n",
       "      <td>NaN</td>\n",
       "      <td>7</td>\n",
       "    </tr>\n",
       "  </tbody>\n",
       "</table>\n",
       "</div>"
      ],
      "text/plain": [
       "    Nombres Apellido Paterno Apellido Materno          Rut    Teléfono  Cargo  \\\n",
       "0  Nombre 1      Apellido P1              NaN  1.111.111-1  1234567890    NaN   \n",
       "1  Nombre 2              NaN      Apellido M2  2.222.222-2  1234567890    NaN   \n",
       "2       NaN      Apellido P3      Apellido M3  3.333.333-3  1234567890    NaN   \n",
       "3  Nombre 4      Apellido P4      Apellido M4  4.444.444-4  1234567890    NaN   \n",
       "4  Nombre 5      Apellido P5      Apellido M5  5.555.555-5  1234567890    NaN   \n",
       "5  Nombre 6      Apellido P6      Apellido M6          NaN  1234567890    NaN   \n",
       "6  Nombre 7      Apellido P7      Apellido M7  7.777.777-7  1234567890    NaN   \n",
       "7  Nombre 7      Apellido P7      Apellido M7  7.777.777-7  1234567890    NaN   \n",
       "\n",
       "   Area  \n",
       "0     2  \n",
       "1     2  \n",
       "2     2  \n",
       "3     3  \n",
       "4     3  \n",
       "5     7  \n",
       "6     7  \n",
       "7     7  "
      ]
     },
     "execution_count": 10,
     "metadata": {},
     "output_type": "execute_result"
    }
   ],
   "source": [
    "excel_file = 'prueba_carga_datos.xlsx'\n",
    "sheet_name = 'colaboradores_agencia'\n",
    "table_name = 'colaboradores_agencia'\n",
    "\n",
    "df_colab = fc.import_data_excel(excel_file, sheet_name)\n",
    "print('Primeras 10 filas del Dataframe:')\n",
    "df_colab.head(10)"
   ]
  },
  {
   "attachments": {},
   "cell_type": "markdown",
   "metadata": {},
   "source": [
    "Tratamiento de datos"
   ]
  },
  {
   "cell_type": "code",
   "execution_count": 11,
   "metadata": {},
   "outputs": [
    {
     "name": "stderr",
     "output_type": "stream",
     "text": [
      "06/14/2023 17:06:06 root            INFO     Columnas renombradas: {'Rut': 'rut_colaborador', 'Nombres': 'nombre', 'Apellido Paterno': 'apellido_paterno', 'Apellido Materno': 'apellido_materno', 'Cargo': 'cargo', 'Area': 'id_area'}\n",
      "06/14/2023 17:06:06 root            INFO     Filas nulas a eliminar:\n",
      "   rut_colaborador    nombre apellido_paterno apellido_materno  cargo  id_area\n",
      "5             NaN  Nombre 6      Apellido P6      Apellido M6    NaN        7\n",
      "06/14/2023 17:06:06 root            INFO     Filas duplicadas a eliminar:\n",
      "   rut_colaborador    nombre apellido_paterno apellido_materno  cargo  id_area\n",
      "6     7.777.777-7  Nombre 7      Apellido P7      Apellido M7    NaN        7\n",
      "06/14/2023 17:06:06 root            INFO     Nuevos tipos de datos:\n",
      "   rut_colaborador  nombre apellido_paterno apellido_materno   cargo id_area\n",
      "0          object  object           object           object  object   int64\n"
     ]
    },
    {
     "data": {
      "text/html": [
       "<div>\n",
       "<style scoped>\n",
       "    .dataframe tbody tr th:only-of-type {\n",
       "        vertical-align: middle;\n",
       "    }\n",
       "\n",
       "    .dataframe tbody tr th {\n",
       "        vertical-align: top;\n",
       "    }\n",
       "\n",
       "    .dataframe thead th {\n",
       "        text-align: right;\n",
       "    }\n",
       "</style>\n",
       "<table border=\"1\" class=\"dataframe\">\n",
       "  <thead>\n",
       "    <tr style=\"text-align: right;\">\n",
       "      <th></th>\n",
       "      <th>rut_colaborador</th>\n",
       "      <th>nombre</th>\n",
       "      <th>apellido_paterno</th>\n",
       "      <th>apellido_materno</th>\n",
       "      <th>cargo</th>\n",
       "      <th>id_area</th>\n",
       "    </tr>\n",
       "  </thead>\n",
       "  <tbody>\n",
       "    <tr>\n",
       "      <th>0</th>\n",
       "      <td>1.111.111-1</td>\n",
       "      <td>Nombre 1</td>\n",
       "      <td>Apellido P1</td>\n",
       "      <td>nan</td>\n",
       "      <td>nan</td>\n",
       "      <td>2</td>\n",
       "    </tr>\n",
       "    <tr>\n",
       "      <th>1</th>\n",
       "      <td>2.222.222-2</td>\n",
       "      <td>Nombre 2</td>\n",
       "      <td>nan</td>\n",
       "      <td>Apellido M2</td>\n",
       "      <td>nan</td>\n",
       "      <td>2</td>\n",
       "    </tr>\n",
       "    <tr>\n",
       "      <th>2</th>\n",
       "      <td>3.333.333-3</td>\n",
       "      <td>nan</td>\n",
       "      <td>Apellido P3</td>\n",
       "      <td>Apellido M3</td>\n",
       "      <td>nan</td>\n",
       "      <td>2</td>\n",
       "    </tr>\n",
       "    <tr>\n",
       "      <th>3</th>\n",
       "      <td>4.444.444-4</td>\n",
       "      <td>Nombre 4</td>\n",
       "      <td>Apellido P4</td>\n",
       "      <td>Apellido M4</td>\n",
       "      <td>nan</td>\n",
       "      <td>3</td>\n",
       "    </tr>\n",
       "    <tr>\n",
       "      <th>4</th>\n",
       "      <td>5.555.555-5</td>\n",
       "      <td>Nombre 5</td>\n",
       "      <td>Apellido P5</td>\n",
       "      <td>Apellido M5</td>\n",
       "      <td>nan</td>\n",
       "      <td>3</td>\n",
       "    </tr>\n",
       "    <tr>\n",
       "      <th>6</th>\n",
       "      <td>7.777.777-7</td>\n",
       "      <td>Nombre 7</td>\n",
       "      <td>Apellido P7</td>\n",
       "      <td>Apellido M7</td>\n",
       "      <td>nan</td>\n",
       "      <td>7</td>\n",
       "    </tr>\n",
       "  </tbody>\n",
       "</table>\n",
       "</div>"
      ],
      "text/plain": [
       "  rut_colaborador    nombre apellido_paterno apellido_materno cargo  id_area\n",
       "0     1.111.111-1  Nombre 1      Apellido P1              nan   nan        2\n",
       "1     2.222.222-2  Nombre 2              nan      Apellido M2   nan        2\n",
       "2     3.333.333-3       nan      Apellido P3      Apellido M3   nan        2\n",
       "3     4.444.444-4  Nombre 4      Apellido P4      Apellido M4   nan        3\n",
       "4     5.555.555-5  Nombre 5      Apellido P5      Apellido M5   nan        3\n",
       "6     7.777.777-7  Nombre 7      Apellido P7      Apellido M7   nan        7"
      ]
     },
     "execution_count": 11,
     "metadata": {},
     "output_type": "execute_result"
    }
   ],
   "source": [
    "df_colab_clean = fc.clean_df(df_colab, table_name, map_file, connection)\n",
    "df_colab_clean"
   ]
  },
  {
   "attachments": {},
   "cell_type": "markdown",
   "metadata": {},
   "source": [
    "Construcción sentencia SQL + Inserta Datos"
   ]
  },
  {
   "cell_type": "code",
   "execution_count": 12,
   "metadata": {},
   "outputs": [
    {
     "name": "stderr",
     "output_type": "stream",
     "text": [
      "06/14/2023 17:07:00 root            INFO     Generando consulta INSERT SQL\n"
     ]
    },
    {
     "name": "stdout",
     "output_type": "stream",
     "text": [
      "\n",
      "    INSERT INTO colaboradores_agencia (rut_colaborador, nombre, apellido_paterno, apellido_materno, cargo, id_area)\n",
      "    VALUES ('1.111.111-1', 'Nombre 1', 'Apellido P1', 'nan', 'nan', 2), ('2.222.222-2', 'Nombre 2', 'nan', 'Apellido M2', 'nan', 2), ('3.333.333-3', 'nan', 'Apellido P3', 'Apellido M3', 'nan', 2), ('4.444.444-4', 'Nombre 4', 'Apellido P4', 'Apellido M4', 'nan', 3), ('5.555.555-5', 'Nombre 5', 'Apellido P5', 'Apellido M5', 'nan', 3), ('7.777.777-7', 'Nombre 7', 'Apellido P7', 'Apellido M7', 'nan', 7);\n",
      "    \n"
     ]
    },
    {
     "name": "stderr",
     "output_type": "stream",
     "text": [
      "06/14/2023 17:07:00 root            INFO     Consulta INSERT/UPDATE/DELETE exitosa\n",
      "06/14/2023 17:07:01 root            INFO     Consulta \"SELECT * FROM colaboradores_agencia\" exitosa\n"
     ]
    },
    {
     "data": {
      "text/html": [
       "<div>\n",
       "<style scoped>\n",
       "    .dataframe tbody tr th:only-of-type {\n",
       "        vertical-align: middle;\n",
       "    }\n",
       "\n",
       "    .dataframe tbody tr th {\n",
       "        vertical-align: top;\n",
       "    }\n",
       "\n",
       "    .dataframe thead th {\n",
       "        text-align: right;\n",
       "    }\n",
       "</style>\n",
       "<table border=\"1\" class=\"dataframe\">\n",
       "  <thead>\n",
       "    <tr style=\"text-align: right;\">\n",
       "      <th></th>\n",
       "      <th>rut_colaborador</th>\n",
       "      <th>nombre</th>\n",
       "      <th>apellido_paterno</th>\n",
       "      <th>apellido_materno</th>\n",
       "      <th>cargo</th>\n",
       "      <th>id_area</th>\n",
       "      <th>genero</th>\n",
       "      <th>pueblo_originario</th>\n",
       "      <th>estado</th>\n",
       "      <th>f_ingreso</th>\n",
       "      <th>f_retiro</th>\n",
       "    </tr>\n",
       "  </thead>\n",
       "  <tbody>\n",
       "    <tr>\n",
       "      <th>0</th>\n",
       "      <td>1.111.111-1</td>\n",
       "      <td>Nombre 1</td>\n",
       "      <td>Apellido P1</td>\n",
       "      <td>nan</td>\n",
       "      <td>nan</td>\n",
       "      <td>2</td>\n",
       "      <td>None</td>\n",
       "      <td>None</td>\n",
       "      <td>None</td>\n",
       "      <td>None</td>\n",
       "      <td>None</td>\n",
       "    </tr>\n",
       "    <tr>\n",
       "      <th>1</th>\n",
       "      <td>2.222.222-2</td>\n",
       "      <td>Nombre 2</td>\n",
       "      <td>nan</td>\n",
       "      <td>Apellido M2</td>\n",
       "      <td>nan</td>\n",
       "      <td>2</td>\n",
       "      <td>None</td>\n",
       "      <td>None</td>\n",
       "      <td>None</td>\n",
       "      <td>None</td>\n",
       "      <td>None</td>\n",
       "    </tr>\n",
       "    <tr>\n",
       "      <th>2</th>\n",
       "      <td>3.333.333-3</td>\n",
       "      <td>nan</td>\n",
       "      <td>Apellido P3</td>\n",
       "      <td>Apellido M3</td>\n",
       "      <td>nan</td>\n",
       "      <td>2</td>\n",
       "      <td>None</td>\n",
       "      <td>None</td>\n",
       "      <td>None</td>\n",
       "      <td>None</td>\n",
       "      <td>None</td>\n",
       "    </tr>\n",
       "    <tr>\n",
       "      <th>3</th>\n",
       "      <td>4.444.444-4</td>\n",
       "      <td>Nombre 4</td>\n",
       "      <td>Apellido P4</td>\n",
       "      <td>Apellido M4</td>\n",
       "      <td>nan</td>\n",
       "      <td>3</td>\n",
       "      <td>None</td>\n",
       "      <td>None</td>\n",
       "      <td>None</td>\n",
       "      <td>None</td>\n",
       "      <td>None</td>\n",
       "    </tr>\n",
       "    <tr>\n",
       "      <th>4</th>\n",
       "      <td>5.555.555-5</td>\n",
       "      <td>Nombre 5</td>\n",
       "      <td>Apellido P5</td>\n",
       "      <td>Apellido M5</td>\n",
       "      <td>nan</td>\n",
       "      <td>3</td>\n",
       "      <td>None</td>\n",
       "      <td>None</td>\n",
       "      <td>None</td>\n",
       "      <td>None</td>\n",
       "      <td>None</td>\n",
       "    </tr>\n",
       "    <tr>\n",
       "      <th>5</th>\n",
       "      <td>7.777.777-7</td>\n",
       "      <td>Nombre 7</td>\n",
       "      <td>Apellido P7</td>\n",
       "      <td>Apellido M7</td>\n",
       "      <td>nan</td>\n",
       "      <td>7</td>\n",
       "      <td>None</td>\n",
       "      <td>None</td>\n",
       "      <td>None</td>\n",
       "      <td>None</td>\n",
       "      <td>None</td>\n",
       "    </tr>\n",
       "  </tbody>\n",
       "</table>\n",
       "</div>"
      ],
      "text/plain": [
       "  rut_colaborador    nombre apellido_paterno apellido_materno cargo  id_area  \\\n",
       "0     1.111.111-1  Nombre 1      Apellido P1              nan   nan        2   \n",
       "1     2.222.222-2  Nombre 2              nan      Apellido M2   nan        2   \n",
       "2     3.333.333-3       nan      Apellido P3      Apellido M3   nan        2   \n",
       "3     4.444.444-4  Nombre 4      Apellido P4      Apellido M4   nan        3   \n",
       "4     5.555.555-5  Nombre 5      Apellido P5      Apellido M5   nan        3   \n",
       "5     7.777.777-7  Nombre 7      Apellido P7      Apellido M7   nan        7   \n",
       "\n",
       "  genero pueblo_originario estado f_ingreso f_retiro  \n",
       "0   None              None   None      None     None  \n",
       "1   None              None   None      None     None  \n",
       "2   None              None   None      None     None  \n",
       "3   None              None   None      None     None  \n",
       "4   None              None   None      None     None  \n",
       "5   None              None   None      None     None  "
      ]
     },
     "execution_count": 12,
     "metadata": {},
     "output_type": "execute_result"
    }
   ],
   "source": [
    "q2 = fc.insert_from_df(table_name, df_colab_clean)\n",
    "print(q2)\n",
    "fc.execute_query(connection, q2)\n",
    "colab = fc.select_all_table (table_name, connection)\n",
    "colab.head(10)"
   ]
  },
  {
   "attachments": {},
   "cell_type": "markdown",
   "metadata": {},
   "source": [
    "Carga datos adicionales"
   ]
  },
  {
   "cell_type": "code",
   "execution_count": 13,
   "metadata": {},
   "outputs": [
    {
     "name": "stderr",
     "output_type": "stream",
     "text": [
      "06/14/2023 17:07:51 root            INFO     Archivo: prueba_carga_datos.xlsx / hoja: \"colaboradores_agencia_2\" cargado correctamente\n"
     ]
    },
    {
     "name": "stdout",
     "output_type": "stream",
     "text": [
      "Primeras 10 filas del Dataframe:\n"
     ]
    },
    {
     "data": {
      "text/html": [
       "<div>\n",
       "<style scoped>\n",
       "    .dataframe tbody tr th:only-of-type {\n",
       "        vertical-align: middle;\n",
       "    }\n",
       "\n",
       "    .dataframe tbody tr th {\n",
       "        vertical-align: top;\n",
       "    }\n",
       "\n",
       "    .dataframe thead th {\n",
       "        text-align: right;\n",
       "    }\n",
       "</style>\n",
       "<table border=\"1\" class=\"dataframe\">\n",
       "  <thead>\n",
       "    <tr style=\"text-align: right;\">\n",
       "      <th></th>\n",
       "      <th>Nombres</th>\n",
       "      <th>Apellido Paterno</th>\n",
       "      <th>Apellido Materno</th>\n",
       "      <th>Rut</th>\n",
       "      <th>Cargo</th>\n",
       "      <th>Area</th>\n",
       "    </tr>\n",
       "  </thead>\n",
       "  <tbody>\n",
       "    <tr>\n",
       "      <th>0</th>\n",
       "      <td>Nombre 5</td>\n",
       "      <td>Apellido P5</td>\n",
       "      <td>Apellido M5</td>\n",
       "      <td>5.555.555-5</td>\n",
       "      <td>C1</td>\n",
       "      <td>5.0</td>\n",
       "    </tr>\n",
       "    <tr>\n",
       "      <th>1</th>\n",
       "      <td>Nombre 7</td>\n",
       "      <td>Apellido P7</td>\n",
       "      <td>Apellido M7</td>\n",
       "      <td>7.777.777-7</td>\n",
       "      <td>C2</td>\n",
       "      <td>5.0</td>\n",
       "    </tr>\n",
       "    <tr>\n",
       "      <th>2</th>\n",
       "      <td>Nombre 9</td>\n",
       "      <td>Apellido P9</td>\n",
       "      <td>Apellido M9</td>\n",
       "      <td>9.999.999-9</td>\n",
       "      <td>NaN</td>\n",
       "      <td>5.0</td>\n",
       "    </tr>\n",
       "    <tr>\n",
       "      <th>3</th>\n",
       "      <td>Nombre 11</td>\n",
       "      <td>Apellido P11</td>\n",
       "      <td>Apellido M11</td>\n",
       "      <td>1.222.333-4</td>\n",
       "      <td>NaN</td>\n",
       "      <td>5.0</td>\n",
       "    </tr>\n",
       "    <tr>\n",
       "      <th>4</th>\n",
       "      <td>Nombre 13</td>\n",
       "      <td>Apellido P13</td>\n",
       "      <td>Apellido M13</td>\n",
       "      <td>13.333.333-3</td>\n",
       "      <td>NaN</td>\n",
       "      <td>NaN</td>\n",
       "    </tr>\n",
       "  </tbody>\n",
       "</table>\n",
       "</div>"
      ],
      "text/plain": [
       "     Nombres Apellido Paterno Apellido Materno           Rut Cargo  Area\n",
       "0   Nombre 5      Apellido P5      Apellido M5   5.555.555-5    C1   5.0\n",
       "1   Nombre 7      Apellido P7      Apellido M7   7.777.777-7    C2   5.0\n",
       "2   Nombre 9      Apellido P9      Apellido M9   9.999.999-9   NaN   5.0\n",
       "3  Nombre 11     Apellido P11     Apellido M11   1.222.333-4   NaN   5.0\n",
       "4  Nombre 13     Apellido P13     Apellido M13  13.333.333-3   NaN   NaN"
      ]
     },
     "execution_count": 13,
     "metadata": {},
     "output_type": "execute_result"
    }
   ],
   "source": [
    "sheet_name_2 = 'colaboradores_agencia_2'\n",
    "\n",
    "df_colab_2 = fc.import_data_excel(excel_file, sheet_name_2)\n",
    "print('Primeras 10 filas del Dataframe:')\n",
    "df_colab_2.head(10)"
   ]
  },
  {
   "cell_type": "code",
   "execution_count": 14,
   "metadata": {},
   "outputs": [
    {
     "name": "stderr",
     "output_type": "stream",
     "text": [
      "06/14/2023 17:09:04 root            INFO     Columnas renombradas: {'Rut': 'rut_colaborador', 'Nombres': 'nombre', 'Apellido Paterno': 'apellido_paterno', 'Apellido Materno': 'apellido_materno', 'Cargo': 'cargo', 'Area': 'id_area'}\n",
      "06/14/2023 17:09:04 root            INFO     Filas nulas a eliminar:\n",
      "   rut_colaborador     nombre apellido_paterno apellido_materno cargo  id_area\n",
      "4    13.333.333-3  Nombre 13     Apellido P13     Apellido M13   NaN      NaN\n",
      "06/14/2023 17:09:04 root            INFO     Nuevos tipos de datos:\n",
      "   rut_colaborador  nombre apellido_paterno apellido_materno   cargo id_area\n",
      "0          object  object           object           object  object   int64\n",
      "06/14/2023 17:09:05 root            INFO     Filas existentes en BD a eliminar:\n",
      "                  nombre_x apellido_paterno_x apellido_materno_x cargo_x  \\\n",
      "rut_colaborador                                                           \n",
      "5.555.555-5      Nombre 5        Apellido P5        Apellido M5     nan   \n",
      "7.777.777-7      Nombre 7        Apellido P7        Apellido M7     nan   \n",
      "\n",
      "                 id_area_x genero pueblo_originario estado f_ingreso f_retiro  \\\n",
      "rut_colaborador                                                                 \n",
      "5.555.555-5              3   None              None   None      None     None   \n",
      "7.777.777-7              7   None              None   None      None     None   \n",
      "\n",
      "                 nombre_y apellido_paterno_y apellido_materno_y cargo_y  \\\n",
      "rut_colaborador                                                           \n",
      "5.555.555-5      Nombre 5        Apellido P5        Apellido M5      C1   \n",
      "7.777.777-7      Nombre 7        Apellido P7        Apellido M7      C2   \n",
      "\n",
      "                 id_area_y  \n",
      "rut_colaborador             \n",
      "5.555.555-5              5  \n",
      "7.777.777-7              5  \n"
     ]
    },
    {
     "data": {
      "text/html": [
       "<div>\n",
       "<style scoped>\n",
       "    .dataframe tbody tr th:only-of-type {\n",
       "        vertical-align: middle;\n",
       "    }\n",
       "\n",
       "    .dataframe tbody tr th {\n",
       "        vertical-align: top;\n",
       "    }\n",
       "\n",
       "    .dataframe thead th {\n",
       "        text-align: right;\n",
       "    }\n",
       "</style>\n",
       "<table border=\"1\" class=\"dataframe\">\n",
       "  <thead>\n",
       "    <tr style=\"text-align: right;\">\n",
       "      <th></th>\n",
       "      <th>rut_colaborador</th>\n",
       "      <th>nombre</th>\n",
       "      <th>apellido_paterno</th>\n",
       "      <th>apellido_materno</th>\n",
       "      <th>cargo</th>\n",
       "      <th>id_area</th>\n",
       "    </tr>\n",
       "  </thead>\n",
       "  <tbody>\n",
       "    <tr>\n",
       "      <th>0</th>\n",
       "      <td>9.999.999-9</td>\n",
       "      <td>Nombre 9</td>\n",
       "      <td>Apellido P9</td>\n",
       "      <td>Apellido M9</td>\n",
       "      <td>nan</td>\n",
       "      <td>5</td>\n",
       "    </tr>\n",
       "    <tr>\n",
       "      <th>1</th>\n",
       "      <td>1.222.333-4</td>\n",
       "      <td>Nombre 11</td>\n",
       "      <td>Apellido P11</td>\n",
       "      <td>Apellido M11</td>\n",
       "      <td>nan</td>\n",
       "      <td>5</td>\n",
       "    </tr>\n",
       "  </tbody>\n",
       "</table>\n",
       "</div>"
      ],
      "text/plain": [
       "  rut_colaborador     nombre apellido_paterno apellido_materno cargo  id_area\n",
       "0     9.999.999-9   Nombre 9      Apellido P9      Apellido M9   nan        5\n",
       "1     1.222.333-4  Nombre 11     Apellido P11     Apellido M11   nan        5"
      ]
     },
     "execution_count": 14,
     "metadata": {},
     "output_type": "execute_result"
    }
   ],
   "source": [
    "df_colab_2_clean = fc.clean_df(df_colab_2, table_name, map_file, connection)\n",
    "df_colab_2_clean"
   ]
  },
  {
   "cell_type": "code",
   "execution_count": 15,
   "metadata": {},
   "outputs": [
    {
     "name": "stderr",
     "output_type": "stream",
     "text": [
      "06/14/2023 17:09:29 root            INFO     Generando consulta INSERT SQL\n"
     ]
    },
    {
     "name": "stdout",
     "output_type": "stream",
     "text": [
      "\n",
      "    INSERT INTO colaboradores_agencia (rut_colaborador, nombre, apellido_paterno, apellido_materno, cargo, id_area)\n",
      "    VALUES ('9.999.999-9', 'Nombre 9', 'Apellido P9', 'Apellido M9', 'nan', 5), ('1.222.333-4', 'Nombre 11', 'Apellido P11', 'Apellido M11', 'nan', 5);\n",
      "    \n"
     ]
    },
    {
     "name": "stderr",
     "output_type": "stream",
     "text": [
      "06/14/2023 17:09:29 root            INFO     Consulta INSERT/UPDATE/DELETE exitosa\n"
     ]
    }
   ],
   "source": [
    "q3 = fc.insert_from_df(table_name, df_colab_2_clean)\n",
    "print(q3)\n",
    "fc.execute_query(connection, q3)"
   ]
  },
  {
   "cell_type": "code",
   "execution_count": 16,
   "metadata": {},
   "outputs": [
    {
     "name": "stderr",
     "output_type": "stream",
     "text": [
      "06/14/2023 17:10:02 root            INFO     Consulta \"SELECT * FROM colaboradores_agencia\" exitosa\n"
     ]
    },
    {
     "data": {
      "text/html": [
       "<div>\n",
       "<style scoped>\n",
       "    .dataframe tbody tr th:only-of-type {\n",
       "        vertical-align: middle;\n",
       "    }\n",
       "\n",
       "    .dataframe tbody tr th {\n",
       "        vertical-align: top;\n",
       "    }\n",
       "\n",
       "    .dataframe thead th {\n",
       "        text-align: right;\n",
       "    }\n",
       "</style>\n",
       "<table border=\"1\" class=\"dataframe\">\n",
       "  <thead>\n",
       "    <tr style=\"text-align: right;\">\n",
       "      <th></th>\n",
       "      <th>rut_colaborador</th>\n",
       "      <th>nombre</th>\n",
       "      <th>apellido_paterno</th>\n",
       "      <th>apellido_materno</th>\n",
       "      <th>cargo</th>\n",
       "      <th>id_area</th>\n",
       "      <th>genero</th>\n",
       "      <th>pueblo_originario</th>\n",
       "      <th>estado</th>\n",
       "      <th>f_ingreso</th>\n",
       "      <th>f_retiro</th>\n",
       "    </tr>\n",
       "  </thead>\n",
       "  <tbody>\n",
       "    <tr>\n",
       "      <th>0</th>\n",
       "      <td>1.111.111-1</td>\n",
       "      <td>Nombre 1</td>\n",
       "      <td>Apellido P1</td>\n",
       "      <td>nan</td>\n",
       "      <td>nan</td>\n",
       "      <td>2</td>\n",
       "      <td>None</td>\n",
       "      <td>None</td>\n",
       "      <td>None</td>\n",
       "      <td>None</td>\n",
       "      <td>None</td>\n",
       "    </tr>\n",
       "    <tr>\n",
       "      <th>1</th>\n",
       "      <td>1.222.333-4</td>\n",
       "      <td>Nombre 11</td>\n",
       "      <td>Apellido P11</td>\n",
       "      <td>Apellido M11</td>\n",
       "      <td>nan</td>\n",
       "      <td>5</td>\n",
       "      <td>None</td>\n",
       "      <td>None</td>\n",
       "      <td>None</td>\n",
       "      <td>None</td>\n",
       "      <td>None</td>\n",
       "    </tr>\n",
       "    <tr>\n",
       "      <th>2</th>\n",
       "      <td>2.222.222-2</td>\n",
       "      <td>Nombre 2</td>\n",
       "      <td>nan</td>\n",
       "      <td>Apellido M2</td>\n",
       "      <td>nan</td>\n",
       "      <td>2</td>\n",
       "      <td>None</td>\n",
       "      <td>None</td>\n",
       "      <td>None</td>\n",
       "      <td>None</td>\n",
       "      <td>None</td>\n",
       "    </tr>\n",
       "    <tr>\n",
       "      <th>3</th>\n",
       "      <td>3.333.333-3</td>\n",
       "      <td>nan</td>\n",
       "      <td>Apellido P3</td>\n",
       "      <td>Apellido M3</td>\n",
       "      <td>nan</td>\n",
       "      <td>2</td>\n",
       "      <td>None</td>\n",
       "      <td>None</td>\n",
       "      <td>None</td>\n",
       "      <td>None</td>\n",
       "      <td>None</td>\n",
       "    </tr>\n",
       "    <tr>\n",
       "      <th>4</th>\n",
       "      <td>4.444.444-4</td>\n",
       "      <td>Nombre 4</td>\n",
       "      <td>Apellido P4</td>\n",
       "      <td>Apellido M4</td>\n",
       "      <td>nan</td>\n",
       "      <td>3</td>\n",
       "      <td>None</td>\n",
       "      <td>None</td>\n",
       "      <td>None</td>\n",
       "      <td>None</td>\n",
       "      <td>None</td>\n",
       "    </tr>\n",
       "    <tr>\n",
       "      <th>5</th>\n",
       "      <td>5.555.555-5</td>\n",
       "      <td>Nombre 5</td>\n",
       "      <td>Apellido P5</td>\n",
       "      <td>Apellido M5</td>\n",
       "      <td>nan</td>\n",
       "      <td>3</td>\n",
       "      <td>None</td>\n",
       "      <td>None</td>\n",
       "      <td>None</td>\n",
       "      <td>None</td>\n",
       "      <td>None</td>\n",
       "    </tr>\n",
       "    <tr>\n",
       "      <th>6</th>\n",
       "      <td>7.777.777-7</td>\n",
       "      <td>Nombre 7</td>\n",
       "      <td>Apellido P7</td>\n",
       "      <td>Apellido M7</td>\n",
       "      <td>nan</td>\n",
       "      <td>7</td>\n",
       "      <td>None</td>\n",
       "      <td>None</td>\n",
       "      <td>None</td>\n",
       "      <td>None</td>\n",
       "      <td>None</td>\n",
       "    </tr>\n",
       "    <tr>\n",
       "      <th>7</th>\n",
       "      <td>9.999.999-9</td>\n",
       "      <td>Nombre 9</td>\n",
       "      <td>Apellido P9</td>\n",
       "      <td>Apellido M9</td>\n",
       "      <td>nan</td>\n",
       "      <td>5</td>\n",
       "      <td>None</td>\n",
       "      <td>None</td>\n",
       "      <td>None</td>\n",
       "      <td>None</td>\n",
       "      <td>None</td>\n",
       "    </tr>\n",
       "  </tbody>\n",
       "</table>\n",
       "</div>"
      ],
      "text/plain": [
       "  rut_colaborador     nombre apellido_paterno apellido_materno cargo  id_area  \\\n",
       "0     1.111.111-1   Nombre 1      Apellido P1              nan   nan        2   \n",
       "1     1.222.333-4  Nombre 11     Apellido P11     Apellido M11   nan        5   \n",
       "2     2.222.222-2   Nombre 2              nan      Apellido M2   nan        2   \n",
       "3     3.333.333-3        nan      Apellido P3      Apellido M3   nan        2   \n",
       "4     4.444.444-4   Nombre 4      Apellido P4      Apellido M4   nan        3   \n",
       "5     5.555.555-5   Nombre 5      Apellido P5      Apellido M5   nan        3   \n",
       "6     7.777.777-7   Nombre 7      Apellido P7      Apellido M7   nan        7   \n",
       "7     9.999.999-9   Nombre 9      Apellido P9      Apellido M9   nan        5   \n",
       "\n",
       "  genero pueblo_originario estado f_ingreso f_retiro  \n",
       "0   None              None   None      None     None  \n",
       "1   None              None   None      None     None  \n",
       "2   None              None   None      None     None  \n",
       "3   None              None   None      None     None  \n",
       "4   None              None   None      None     None  \n",
       "5   None              None   None      None     None  \n",
       "6   None              None   None      None     None  \n",
       "7   None              None   None      None     None  "
      ]
     },
     "execution_count": 16,
     "metadata": {},
     "output_type": "execute_result"
    }
   ],
   "source": [
    "colab_2 = fc.select_all_table (table_name, connection)\n",
    "colab_2.head(10)"
   ]
  },
  {
   "cell_type": "code",
   "execution_count": 11,
   "metadata": {},
   "outputs": [
    {
     "name": "stderr",
     "output_type": "stream",
     "text": [
      "06/14/2023 17:30:42 root            INFO     Consulta INSERT/UPDATE/DELETE exitosa\n",
      "06/14/2023 17:30:42 root            INFO     Consulta \"SELECT * FROM colaboradores_agencia\" exitosa\n"
     ]
    },
    {
     "data": {
      "text/html": [
       "<div>\n",
       "<style scoped>\n",
       "    .dataframe tbody tr th:only-of-type {\n",
       "        vertical-align: middle;\n",
       "    }\n",
       "\n",
       "    .dataframe tbody tr th {\n",
       "        vertical-align: top;\n",
       "    }\n",
       "\n",
       "    .dataframe thead th {\n",
       "        text-align: right;\n",
       "    }\n",
       "</style>\n",
       "<table border=\"1\" class=\"dataframe\">\n",
       "  <thead>\n",
       "    <tr style=\"text-align: right;\">\n",
       "      <th></th>\n",
       "      <th>rut_colaborador</th>\n",
       "      <th>nombre</th>\n",
       "      <th>apellido_paterno</th>\n",
       "      <th>apellido_materno</th>\n",
       "      <th>cargo</th>\n",
       "      <th>id_area</th>\n",
       "      <th>genero</th>\n",
       "      <th>pueblo_originario</th>\n",
       "      <th>estado</th>\n",
       "      <th>f_ingreso</th>\n",
       "      <th>f_retiro</th>\n",
       "    </tr>\n",
       "  </thead>\n",
       "  <tbody>\n",
       "  </tbody>\n",
       "</table>\n",
       "</div>"
      ],
      "text/plain": [
       "Empty DataFrame\n",
       "Columns: [rut_colaborador, nombre, apellido_paterno, apellido_materno, cargo, id_area, genero, pueblo_originario, estado, f_ingreso, f_retiro]\n",
       "Index: []"
      ]
     },
     "execution_count": 11,
     "metadata": {},
     "output_type": "execute_result"
    }
   ],
   "source": [
    "#DELETE\n",
    "\n",
    "table_name = \"colaboradores_agencia\"\n",
    "\n",
    "q_delete = f\"\"\" \n",
    "DELETE FROM {table_name}\n",
    "WHERE id_area  IN (1, 2, 3, 4, 5, 6, 7, 8, 9, 10);\"\"\"\n",
    "\n",
    "fc.execute_query(connection, q_delete)\n",
    "fc.select_all_table(table_name, connection)"
   ]
  },
  {
   "cell_type": "code",
   "execution_count": 12,
   "metadata": {},
   "outputs": [
    {
     "name": "stderr",
     "output_type": "stream",
     "text": [
      "06/14/2023 17:30:45 root            INFO     Consulta INSERT/UPDATE/DELETE exitosa\n",
      "06/14/2023 17:30:45 root            INFO     Consulta \"SELECT * FROM area\" exitosa\n"
     ]
    },
    {
     "data": {
      "text/html": [
       "<div>\n",
       "<style scoped>\n",
       "    .dataframe tbody tr th:only-of-type {\n",
       "        vertical-align: middle;\n",
       "    }\n",
       "\n",
       "    .dataframe tbody tr th {\n",
       "        vertical-align: top;\n",
       "    }\n",
       "\n",
       "    .dataframe thead th {\n",
       "        text-align: right;\n",
       "    }\n",
       "</style>\n",
       "<table border=\"1\" class=\"dataframe\">\n",
       "  <thead>\n",
       "    <tr style=\"text-align: right;\">\n",
       "      <th></th>\n",
       "      <th>id_area</th>\n",
       "      <th>area</th>\n",
       "      <th>tipo</th>\n",
       "      <th>jefatura</th>\n",
       "      <th>objetivo</th>\n",
       "      <th>descripcion</th>\n",
       "    </tr>\n",
       "  </thead>\n",
       "  <tbody>\n",
       "  </tbody>\n",
       "</table>\n",
       "</div>"
      ],
      "text/plain": [
       "Empty DataFrame\n",
       "Columns: [id_area, area, tipo, jefatura, objetivo, descripcion]\n",
       "Index: []"
      ]
     },
     "execution_count": 12,
     "metadata": {},
     "output_type": "execute_result"
    }
   ],
   "source": [
    "#DELETE\n",
    "\n",
    "table_name = \"area\"\n",
    "\n",
    "q_delete = f\"\"\" \n",
    "DELETE FROM {table_name}\n",
    "WHERE id_area  IN (1, 2, 3, 4, 5, 6, 7, 8, 9, 10);\"\"\"\n",
    "\n",
    "fc.execute_query(connection, q_delete)\n",
    "fc.select_all_table(table_name, connection)"
   ]
  }
 ],
 "metadata": {
  "kernelspec": {
   "display_name": "Python 3",
   "language": "python",
   "name": "python3"
  },
  "language_info": {
   "codemirror_mode": {
    "name": "ipython",
    "version": 3
   },
   "file_extension": ".py",
   "mimetype": "text/x-python",
   "name": "python",
   "nbconvert_exporter": "python",
   "pygments_lexer": "ipython3",
   "version": "3.9.13"
  },
  "orig_nbformat": 4
 },
 "nbformat": 4,
 "nbformat_minor": 2
}
